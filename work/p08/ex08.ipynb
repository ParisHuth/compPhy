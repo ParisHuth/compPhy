{
 "cells": [
  {
   "attachments": {},
   "cell_type": "markdown",
   "metadata": {},
   "source": [
    "# Many Species Population Dynamics"
   ]
  },
  {
   "attachments": {},
   "cell_type": "markdown",
   "metadata": {},
   "source": [
    "### Q' inich Figueroa Coc: Gruppe 5\n",
    "### Paris J. Huth: Gruppe 1"
   ]
  },
  {
   "cell_type": "code",
   "execution_count": 1,
   "metadata": {},
   "outputs": [],
   "source": [
    "import numpy as np \n",
    "import matplotlib.pyplot as plt "
   ]
  },
  {
   "attachments": {},
   "cell_type": "markdown",
   "metadata": {},
   "source": [
    "## 1.\n",
    "For one there is the trivial fixed point of $n_0=0$. In the case of the Volterra-Lotka System there is also the fixed point of $n_1=1$."
   ]
  },
  {
   "attachments": {},
   "cell_type": "markdown",
   "metadata": {},
   "source": [
    "For the third fp we examin the growth limiting factor, thus considering the prey population dynamic without predators:\n",
    "\n",
    "$$ \\frac{\\mathrm{d}N_i}{\\mathrm{d}t}=N_i\\left(a_i-N_i\\right)$$\n",
    "\n",
    "Which yields: $n_2 = \\left(11,12,10\\right)$.\n",
    "\n",
    "## 2."
   ]
  },
  {
   "cell_type": "code",
   "execution_count": 28,
   "metadata": {},
   "outputs": [],
   "source": [
    "def dNN(n,a,b,p):\n",
    "    N = []\n",
    "    Ntemp = []\n",
    "    for i in range(0,3):\n",
    "        n[i] = a[i]-2*n[i]\n",
    "\n",
    "        for j in range(0,3):\n",
    "            Ntemp.append(n[i]-b[i,j]*p[j])\n",
    "        N.append(Ntemp)\n",
    "    return(np.array(N))\n",
    "\n",
    "def dNP(n,a,b,p):\n",
    "    N = []\n",
    "    Ntemp = []\n",
    "    for i in range(0,3):\n",
    "        for j in range(0,3):\n",
    "            Ntemp.append(-n[i]*b[i,j])\n",
    "        N.append(Ntemp)\n",
    "    return(np.array(N))\n",
    "\n",
    "def dPP(n,c,d,p):\n",
    "    P = []\n",
    "    Ptemp = []\n",
    "    for i in range(0,3):\n",
    "        for j in range(0,3):\n",
    "            Ptemp.append(c[i,j]*n[j]-d[i])\n",
    "        P.append(Ptemp)\n",
    "    return(np.array(P))\n",
    "\n",
    "def dPN(n,c,d,p):\n",
    "    P = []\n",
    "    Ptempt = []\n",
    "    for i in range(0,3):\n",
    "        for j in range(0,3):\n",
    "            Ptemp.append(p[i]*[i,j])\n",
    "        P.append(Ptemp) \n",
    "    return(np.array(P))"
   ]
  },
  {
   "cell_type": "code",
   "execution_count": 29,
   "metadata": {},
   "outputs": [],
   "source": [
    "a = np.array([11,12,10])\n",
    "d = np.array([8,9,17])\n",
    "b = np.array([[2,3,5],[1,3,7],[4,3,2]])\n",
    "c = np.array([[2,3,3],[3,3,3],[7,8,2]])"
   ]
  },
  {
   "cell_type": "code",
   "execution_count": 31,
   "metadata": {},
   "outputs": [
    {
     "data": {
      "text/plain": [
       "array([[-18., -27., -45., -10., -30., -70., -32., -24., -16.],\n",
       "       [-18., -27., -45., -10., -30., -70., -32., -24., -16.],\n",
       "       [-18., -27., -45., -10., -30., -70., -32., -24., -16.]])"
      ]
     },
     "execution_count": 31,
     "metadata": {},
     "output_type": "execute_result"
    }
   ],
   "source": [
    "n1 = np.ones(3)\n",
    "p1 = np.ones(3)\n",
    "dNN(n1,a,b, p1)\n",
    "dNP(n1,a,b,p1)"
   ]
  },
  {
   "cell_type": "code",
   "execution_count": null,
   "metadata": {},
   "outputs": [],
   "source": []
  }
 ],
 "metadata": {
  "kernelspec": {
   "display_name": "Python 3",
   "language": "python",
   "name": "python3"
  },
  "language_info": {
   "codemirror_mode": {
    "name": "ipython",
    "version": 3
   },
   "file_extension": ".py",
   "mimetype": "text/x-python",
   "name": "python",
   "nbconvert_exporter": "python",
   "pygments_lexer": "ipython3",
   "version": "3.11.3"
  },
  "orig_nbformat": 4
 },
 "nbformat": 4,
 "nbformat_minor": 2
}
