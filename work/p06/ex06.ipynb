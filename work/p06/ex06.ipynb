{
 "cells": [
  {
   "cell_type": "markdown",
   "metadata": {},
   "source": [
    "Ex 06"
   ]
  },
  {
   "cell_type": "markdown",
   "metadata": {},
   "source": [
    "### Q' inich Figueroa Coc: Gruppe 5\n",
    "### Paris J. Huth: Gruppe 1"
   ]
  },
  {
   "cell_type": "code",
   "execution_count": 1,
   "metadata": {},
   "outputs": [],
   "source": [
    "import xalglib\n",
    "import numpy as np\n",
    "import matplotlib.pyplot as plt "
   ]
  },
  {
   "cell_type": "code",
   "execution_count": 4,
   "metadata": {},
   "outputs": [
    {
     "name": "stdout",
     "output_type": "stream",
     "text": [
      "input matrix: \n",
      " [[ 1.          2.          3.          1.        ]\n",
      " [-3.74165739 11.42857143  6.          1.        ]\n",
      " [ 0.52249722 -5.90658574 -6.81581916  9.        ]\n",
      " [ 0.17416574 -0.49167522  2.28669     2.38724773]]\n",
      "corresponding trdidiagonal matrix: \n",
      " [[ 1.         -3.74165739  0.          0.        ]\n",
      " [-3.74165739 11.42857143 -5.90658574  0.        ]\n",
      " [ 0.         -5.90658574 -6.81581916  0.        ]\n",
      " [ 0.          0.          0.          0.        ]]\n"
     ]
    }
   ],
   "source": [
    "\n",
    "# Define example matrix\n",
    "a0 = [[1., 2., 3., 1.,],\n",
    "    [2., 5., 6., 1.,],\n",
    "    [3., 6., 1., 9.,],\n",
    "    [1., 1., 9., 1.]]\n",
    "\n",
    "a,d, e = xalglib.smatrixtd(a0, n = len(a0), isupper = False) # missing variable tau\n",
    "a_tridiag = np.zeros((len(a0),len(a0)))\n",
    "for i in range(len(a)):\n",
    "    a_tridiag[i][i] = d[i]\n",
    "    if i+1 < len(a):\n",
    "        a_tridiag[i][i+1] = e[i]\n",
    "        a_tridiag[i+1][i] = e[i] \n",
    "\n",
    "print('input matrix: \\n', np.array(a0))\n",
    "print('corresponding trdidiagonal matrix: \\n', a_tridiag)"
   ]
  },
  {
   "cell_type": "code",
   "execution_count": 15,
   "metadata": {},
   "outputs": [],
   "source": [
    "# simple straight forward implementation of hauseholder transform\n",
    "def tred2(A):\n",
    "    I = np.identity(A.shape[0])\n",
    "    A_c = np.copy(A)\n",
    "\n",
    "    for k in range(A_c.shape[1]-2):\n",
    "        alpha = -np.sign(A_c[k+1, k]) *  np.sqrt(np.sum(A_c[k+1,k]**2))\n",
    "        r = np.sqrt(0.5*(alpha ** 2 - A_c[k+1,k] * alpha))\n",
    "        v = np.zeros((A_c.shape[0],1))\n",
    "        v[k+1] = (A_c[k+1,k] - alpha) / (2*r)\n",
    "        v[k+2] = A_c[k+2,k].reshape(-1,1)/(2*4)\n",
    "        P = I - 2*np.dot(v, v.T)\n",
    "        A_c = np.dot(P, np.dot(A_c,P))\n",
    "    return(A_c)"
   ]
  },
  {
   "cell_type": "code",
   "execution_count": 22,
   "metadata": {},
   "outputs": [],
   "source": [
    "def tred2(A):\n",
    "    A = np.array(A)  # Convert input to NumPy array\n",
    "    I = np.identity(A.shape[0])\n",
    "    A_c = np.copy(A)\n",
    "\n",
    "    for k in range(A_c.shape[1]-2):\n",
    "        alpha = -np.sign(A_c[k+1, k]) * np.sqrt(np.sum(A_c[k+1, k]**2))\n",
    "        r = np.sqrt(0.5 * (alpha ** 2 - A_c[k+1, k] * alpha))\n",
    "        v = np.zeros((A_c.shape[0], 1))\n",
    "        v[k+1] = (A_c[k+1, k] - alpha) / (2 * r)\n",
    "        v[k+2] = A_c[k+2, k].reshape(-1, 1) / (2 * r)\n",
    "        P = I - 2 * np.dot(v, v.T)\n",
    "        A_c = np.dot(P, np.dot(A_c, P))\n",
    "    \n",
    "    return A_c"
   ]
  },
  {
   "cell_type": "code",
   "execution_count": 25,
   "metadata": {},
   "outputs": [
    {
     "name": "stdout",
     "output_type": "stream",
     "text": [
      "input matrix A0 \n",
      " [[1.0, 2.0, 3.0, 1.0], [2.0, 5.0, 6.0, 1.0], [3.0, 6.0, 1.0, 9.0], [1.0, 1.0, 9.0, 1.0]]\n",
      "tridiagonal form At \n",
      " [[  1.          -6.5          4.03596866  -1.44920902]\n",
      " [ -6.5         25.25       -31.52154558   3.16737689]\n",
      " [  4.03596866 -31.52154558  17.42259004  -7.51203106]\n",
      " [ -1.44920902   3.16737689  -7.51203106   3.80345607]]\n",
      "a_t - a_tridiag \n",
      " [[  0.          -2.75834261   4.03596866  -1.44920902]\n",
      " [ -2.75834261  13.82142857 -25.61495984   3.16737689]\n",
      " [  4.03596866 -25.61495984  24.2384092   -7.51203106]\n",
      " [ -1.44920902   3.16737689  -7.51203106   3.80345607]]\n"
     ]
    }
   ],
   "source": [
    "# Test example from above \n",
    "# define example matrix\n",
    "a0 = [[1., 2., 3., 1.,],\n",
    "    [2., 5., 6., 1.,],\n",
    "    [3., 6., 1., 9.,],\n",
    "    [1., 1., 9., 1.]]\n",
    "\n",
    "a_t = tred2(a0)\n",
    "# input\n",
    "print('input matrix A0 \\n', a0)\n",
    "\n",
    "# output of householder algorithm\n",
    "print('tridiagonal form At \\n', a_t)\n",
    "\n",
    "# compare results with xalglib.smatrixtd\n",
    "print('a_t - a_tridiag \\n', a_t - a_tridiag)"
   ]
  },
  {
   "cell_type": "code",
   "execution_count": 28,
   "metadata": {},
   "outputs": [
    {
     "name": "stdout",
     "output_type": "stream",
     "text": [
      "d - dt \n",
      " [nan nan nan nan nan nan nan nan nan nan nan nan nan nan nan nan nan nan\n",
      " nan nan nan nan nan nan nan nan nan nan nan nan nan nan nan nan nan nan\n",
      " nan nan nan nan nan nan nan nan nan nan nan nan nan nan]\n",
      "e - et \n",
      " [nan nan nan nan nan nan nan nan nan nan nan nan nan nan nan nan nan nan\n",
      " nan nan nan nan nan nan nan nan nan nan nan nan nan nan nan nan nan nan\n",
      " nan nan nan nan nan nan nan nan nan nan nan nan nan]\n",
      "[[nan nan nan ... nan nan nan]\n",
      " [nan nan nan ... nan nan nan]\n",
      " [nan nan nan ... nan nan nan]\n",
      " ...\n",
      " [nan nan nan ... nan nan nan]\n",
      " [nan nan nan ... nan nan nan]\n",
      " [nan nan nan ... nan nan nan]]\n"
     ]
    },
    {
     "name": "stderr",
     "output_type": "stream",
     "text": [
      "/usr/local/lib/python3.7/dist-packages/ipykernel_launcher.py:10: RuntimeWarning: invalid value encountered in double_scalars\n",
      "  # Remove the CWD from sys.path while we load stuff.\n",
      "/usr/local/lib/python3.7/dist-packages/ipykernel_launcher.py:11: RuntimeWarning: divide by zero encountered in true_divide\n",
      "  # This is added back by InteractiveShellApp.init_path()\n"
     ]
    }
   ],
   "source": [
    "A_large = np.ones((50,50)) + 0.000001* np.ones((50,50))\n",
    "A_largel = A_large.tolist()\n",
    "\n",
    "a, dl, el = xalglib.smatrixtd(A_largel, n = len(A_largel), isupper = False)\n",
    "\n",
    "A_large_t = tred2(A_large)\n",
    "d_t = np.diagonal(A_large_t)\n",
    "e_t = np.diagonal(A_large_t, offset = 1)\n",
    "\n",
    "print('d - dt \\n', dl - d_t)\n",
    "print('e - et \\n', el - e_t)\n",
    "print(A_large_t)\n"
   ]
  },
  {
   "cell_type": "code",
   "execution_count": 27,
   "metadata": {},
   "outputs": [
    {
     "name": "stdout",
     "output_type": "stream",
     "text": [
      "scipy Eigenvalues from tridiagonal matrix: \n",
      " [-9.09438171  0.07666752  2.83060713 14.18710706]\n",
      "numpy eigenvalues from original matrix: \n",
      " [-9.09438171  0.07666752  2.83060713 14.18710706]\n"
     ]
    }
   ],
   "source": [
    "import scipy.linalg as scl\n",
    "\n",
    "# copmute the eigenvalues and vectors\n",
    "ev, evec = scl.eigh_tridiagonal(d,e)\n",
    "\n",
    "# compare eigenvalues to eigenvalues derive from np.linalg.eig \n",
    "# using the original matrix as input\n",
    "ev_np, evec_np = np.linalg.eig(np.array(a0))\n",
    "\n",
    "print('scipy Eigenvalues from tridiagonal matrix: \\n', ev)\n",
    "print('numpy eigenvalues from original matrix: \\n',np.sort(ev_np))"
   ]
  },
  {
   "cell_type": "code",
   "execution_count": 31,
   "metadata": {},
   "outputs": [
    {
     "name": "stdout",
     "output_type": "stream",
     "text": [
      "[[0.5 1.5 2.5 3.5 4.5 5.5 6.5 7.5 8.5 9.5]\n",
      " [0.5 1.5 2.5 3.5 4.5 5.5 6.5 7.5 8.5 9.5]\n",
      " [0.5 1.5 2.5 3.5 4.5 5.5 6.5 7.5 8.5 9.5]\n",
      " [0.5 1.5 2.5 3.5 4.5 5.5 6.5 7.5 8.5 9.5]\n",
      " [0.5 1.5 2.5 3.5 4.5 5.5 6.5 7.5 8.5 9.5]\n",
      " [0.5 1.5 2.5 3.5 4.5 5.5 6.5 7.5 8.5 9.5]\n",
      " [0.5 1.5 2.5 3.5 4.5 5.5 6.5 7.5 8.5 9.5]\n",
      " [0.5 1.5 2.5 3.5 4.5 5.5 6.5 7.5 8.5 9.5]\n",
      " [0.5 1.5 2.5 3.5 4.5 5.5 6.5 7.5 8.5 9.5]\n",
      " [0.5 1.5 2.5 3.5 4.5 5.5 6.5 7.5 8.5 9.5]\n",
      " [0.5 1.5 2.5 3.5 4.5 5.5 6.5 7.5 8.5 9.5]\n",
      " [0.5 1.5 2.5 3.5 4.5 5.5 6.5 7.5 8.5 9.5]\n",
      " [0.5 1.5 2.5 3.5 4.5 5.5 6.5 7.5 8.5 9.5]\n",
      " [0.5 1.5 2.5 3.5 4.5 5.5 6.5 7.5 8.5 9.5]\n",
      " [0.5 1.5 2.5 3.5 4.5 5.5 6.5 7.5 8.5 9.5]\n",
      " [0.5 1.5 2.5 3.5 4.5 5.5 6.5 7.5 8.5 9.5]]\n"
     ]
    }
   ],
   "source": [
    "# unpertured harmonic oscillator\n",
    "\n",
    "# kronecker delta\n",
    "def delta(n,m):\n",
    "    if n==m:\n",
    "        return 1.\n",
    "    else:\n",
    "        return 0.\n",
    "    \n",
    "# define hamiltonian to initialize the matrix h_nm for given size N \n",
    "def hamiltonian(N):\n",
    "    h = np.zeros((N,N))\n",
    "    for n in range(N):\n",
    "        for m in range(N):\n",
    "            h[n,m] = (n+0.5)*delta(n,m) # caluclate how q^4 looks like and calc in the same way for hw\n",
    "    return h\n",
    "\n",
    "# compute of the eigenvalues as a function of matrix size\n",
    "N_i = np.arange(15,31,1)\n",
    "eigenvalues = np.zeros((len(N_i),10)) \n",
    "\n",
    "for i in range(N_i.shape[0]):\n",
    "    h_i = hamiltonian(N_i[i])\n",
    "    w_i, v_i = np.linalg.eig(h_i)\n",
    "    \n",
    "    # eigenvalues for n = 0, 1, ..., 9\n",
    "    eigenvalues[i, :] = np.sort(w_i)[:10]\n",
    "    \n",
    "print(eigenvalues)"
   ]
  }
 ],
 "metadata": {
  "kernelspec": {
   "display_name": "Python 3 (ipykernel)",
   "language": "python",
   "name": "python3"
  },
  "language_info": {
   "codemirror_mode": {
    "name": "ipython",
    "version": 3
   },
   "file_extension": ".py",
   "mimetype": "text/x-python",
   "name": "python",
   "nbconvert_exporter": "python",
   "pygments_lexer": "ipython3",
   "version": "3.9.13"
  }
 },
 "nbformat": 4,
 "nbformat_minor": 4
}
