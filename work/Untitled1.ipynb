{
 "cells": [
  {
   "cell_type": "markdown",
   "id": "d162321d-01f2-47e8-b0bd-1cf491dc2471",
   "metadata": {},
   "source": [
    "# Numberical Integration\n",
    "## Paris J. Huth: Gruppe 1\n",
    "## Q inich Pakal Figueroa Coc: Gruppe 5"
   ]
  },
  {
   "cell_type": "code",
   "execution_count": null,
   "id": "3a853389-e85c-423c-a347-104ba525d8cb",
   "metadata": {
    "tags": []
   },
   "outputs": [],
   "source": [
    "inte <- function(x,a,n){\n",
    "    x^n/(x+a)\n",
    "}"
   ]
  },
  {
   "cell_type": "code",
   "execution_count": null,
   "id": "1cc41a48-7598-4a30-a1cc-7560a049f79c",
   "metadata": {
    "tags": []
   },
   "outputs": [],
   "source": [
    "a <- 5\n",
    "x <- seq(0,1,length.out=100)\n",
    "n <- c(1,5,10,20,30,50)"
   ]
  },
  {
   "cell_type": "code",
   "execution_count": null,
   "id": "da1054d9-ecc0-4da0-bc78-255584156eef",
   "metadata": {
    "tags": []
   },
   "outputs": [],
   "source": [
    "yn <- lapply(n, function(i) inte(x,a,i))\n",
    "y <- sapply(yn, function(i) sum(i))"
   ]
  },
  {
   "cell_type": "code",
   "execution_count": null,
   "id": "eecdd6e5-d458-498a-a852-6e0a50056049",
   "metadata": {
    "tags": []
   },
   "outputs": [],
   "source": [
    "plot(x,yn[[1]],type='l',ylab='y')\n",
    "colors <- rainbow(length(n))\n",
    "for (i in seq_along(n)){\n",
    "    lines(x,yn[[i]],col=colors[i])\n",
    "}\n",
    "legend('topleft',legend=n, col = colors,lty=1)"
   ]
  },
  {
   "cell_type": "code",
   "execution_count": null,
   "id": "529c4e6f-66f7-462a-ae0a-ac56d753973b",
   "metadata": {
    "tags": []
   },
   "outputs": [],
   "source": [
    "\n",
    "iter <- function(a, n0, y0, n1){\n",
    "    # strictly going from m->n doesnt need a case by case\n",
    "    m <- min(n0,n1)\n",
    "    n <- max(n0,n1)\n",
    "    \n",
    "    # error handling\n",
    "    # check for trivial case\n",
    "    if (n == m){\n",
    "        warning('Boundaries match! Returning initial y value.')\n",
    "        return(y0)\n",
    "    } else if (m == 0){\n",
    "        warning('A boundary was set to 0! This would have resulted in an infite',\n",
    "                ' result. Replacing boundary with 1.')\n",
    "        m <- 1\n",
    "    }\n",
    "\n",
    "    # initialising\n",
    "    y <- y0\n",
    "    # iterating\n",
    "    for (i in m:n){\n",
    "        y <- (1/i - a*y)\n",
    "    }\n",
    "    \n",
    "    # returning finished result\n",
    "    return(y)\n",
    "}"
   ]
  },
  {
   "cell_type": "code",
   "execution_count": null,
   "id": "649b3a3e-6f02-467f-a0a2-95b50d4fc761",
   "metadata": {
    "tags": []
   },
   "outputs": [],
   "source": [
    "iter(a=5, n0=0, y0=log((1+5)/5),n1=0)\n",
    "iter(a=5, n0=50, y0=log((1+5)/5),n1=30)"
   ]
  },
  {
   "cell_type": "code",
   "execution_count": null,
   "id": "e8f42895-8d70-43a6-9e82-1a8fca6e57b2",
   "metadata": {},
   "outputs": [],
   "source": []
  }
 ],
 "metadata": {
  "kernelspec": {
   "display_name": "R",
   "language": "R",
   "name": "ir"
  },
  "language_info": {
   "name": ""
  }
 },
 "nbformat": 4,
 "nbformat_minor": 5
}
