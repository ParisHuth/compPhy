{
 "cells": [
  {
   "cell_type": "code",
   "execution_count": 96,
   "id": "ac9cd252",
   "metadata": {},
   "outputs": [],
   "source": [
    "import numpy as np"
   ]
  },
  {
   "cell_type": "markdown",
   "id": "c3a3d66d",
   "metadata": {},
   "source": [
    "# 1. Numerical linear algebra methods"
   ]
  },
  {
   "cell_type": "markdown",
   "id": "f190e2a6",
   "metadata": {},
   "source": [
    "### _a)_"
   ]
  },
  {
   "cell_type": "code",
   "execution_count": 205,
   "id": "4f056e97",
   "metadata": {},
   "outputs": [],
   "source": [
    "#programm to solve equation system using Jordan-Gauss algorith\n",
    "def solve(c):\n",
    "    print('equation system:')\n",
    "    print(c)\n",
    "    print()\n",
    "    print('solution:')\n",
    "    for i in range(0,len(c[0])-1):\n",
    "        b = np.arange(0,len(c[0])-1)\n",
    "        b = np.delete(b, i)\n",
    "        c[i] = c[i]/c[i,i] \n",
    "        for j in b:\n",
    "            d = c[j,i]\n",
    "            c[j] = c[j]-c[i]*d\n",
    "    print(c)\n",
    "    print()\n",
    "    for i in range(0,len(c[0])-1):\n",
    "        print('x{} = {}'.format(i+1, c[i,-1]))"
   ]
  },
  {
   "cell_type": "code",
   "execution_count": 206,
   "id": "c082b6c8",
   "metadata": {},
   "outputs": [],
   "source": [
    "e = 1e-12\n",
    "a = np.zeros((2,3))\n",
    "a[0,1] = 1/3\n",
    "a[1,0] = a[0,1]\n",
    "a[1,1] = a[0,1]\n",
    "a[0,0] = e\n",
    "a[0,2] = 1/3\n",
    "a[1,2] = 1/6"
   ]
  },
  {
   "cell_type": "code",
   "execution_count": 207,
   "id": "3a3a3766",
   "metadata": {},
   "outputs": [
    {
     "name": "stdout",
     "output_type": "stream",
     "text": [
      "equation system:\n",
      "[[1.00000000e-12 3.33333333e-01 3.33333333e-01]\n",
      " [3.33333333e-01 3.33333333e-01 1.66666667e-01]]\n",
      "\n",
      "solution:\n",
      "[[ 1.   0.  -0.5]\n",
      " [-0.   1.   1. ]]\n",
      "\n",
      "x1 = -0.5\n",
      "x2 = 1.0000000000015\n"
     ]
    }
   ],
   "source": [
    "solve(a)"
   ]
  },
  {
   "cell_type": "code",
   "execution_count": 208,
   "id": "98a66da1",
   "metadata": {},
   "outputs": [
    {
     "name": "stdout",
     "output_type": "stream",
     "text": [
      "[0.33333333 0.16666667]\n"
     ]
    }
   ],
   "source": [
    "a = np.array([[1.00000000e-08, 3.33333333e-01],\n",
    " [3.33333333e-01, 3.33333333e-01]])\n",
    "b = np.array([-0.5,1.0000000000015])\n",
    "print(np.matmul(a,b))"
   ]
  },
  {
   "cell_type": "code",
   "execution_count": 199,
   "id": "74cbcf07",
   "metadata": {},
   "outputs": [],
   "source": [
    "# checking row-wise pivoting?"
   ]
  },
  {
   "cell_type": "markdown",
   "id": "e27f65fd",
   "metadata": {},
   "source": [
    "### _b)_"
   ]
  },
  {
   "cell_type": "code",
   "execution_count": 198,
   "id": "b780f3d8",
   "metadata": {},
   "outputs": [
    {
     "name": "stdout",
     "output_type": "stream",
     "text": [
      "P =  [[0. 1.]\n",
      " [1. 0.]]\n",
      "\n",
      "L =  [[1.e+00 0.e+00]\n",
      " [3.e-12 1.e+00]]\n",
      "\n",
      "U =  [[0.33333333 0.33333333]\n",
      " [0.         0.33333333]]\n",
      "\n",
      "Ux = [0.33333333 0.16666667]\n",
      "\n",
      "x =  [0.5 0.5]\n",
      "\n",
      "A*x =  [0.33333333 0.16666667]\n"
     ]
    }
   ],
   "source": [
    "from scipy.linalg import lu \n",
    "from scipy.linalg import solve_triangular as lubskb\n",
    "\n",
    "# lu deocomposition\n",
    "\n",
    "p,l,u = lu(a)\n",
    "print('P = ', p)\n",
    "print()\n",
    "print('L = ',l)\n",
    "print()\n",
    "print('U = ',u)\n",
    "\n",
    "#solving equation\n",
    "b = np.array([1/3,1/6])\n",
    "\n",
    "y = lubskb(l,b, lower = True)\n",
    "print()\n",
    "print('Ux =',y)\n",
    "print()\n",
    "x = lubskb(u,y)\n",
    "print('x = ',x)\n",
    "print()\n",
    "print('A*x = ',np.matmul(p,np.matmul(a,x)))"
   ]
  },
  {
   "cell_type": "markdown",
   "id": "0246fc6a",
   "metadata": {},
   "source": [
    "One can't help to notice, that both methods deliver different result for $\\vec{x}$"
   ]
  },
  {
   "cell_type": "markdown",
   "id": "c5b99819",
   "metadata": {},
   "source": [
    "# 2. Tridiagonal matrices "
   ]
  },
  {
   "cell_type": "markdown",
   "id": "1ed88bee",
   "metadata": {},
   "source": [
    "### 2.1"
   ]
  },
  {
   "cell_type": "code",
   "execution_count": 272,
   "id": "200a3543",
   "metadata": {},
   "outputs": [],
   "source": [
    "\n",
    "def j_g(a):\n",
    "    ''' \n",
    "    this functions applies the Jordan-Gaus algorithm to a \n",
    "    given N x N matrix\n",
    "    Input:\n",
    "    a - N x N np.array: Matrix A\n",
    "\n",
    "    Output: \n",
    "    c -  N x N after transformation \n",
    "    \n",
    "    Note: \n",
    "    this function does not apply pivoting\n",
    "    '''\n",
    "    N = len(a)\n",
    "    M = len(a[0])\n",
    "    c = np.zeros((N, M))\n",
    "    for i in range(0, N):\n",
    "        for j in range(0,M):\n",
    "            c[i,j] = a[i,j]\n",
    "    \n",
    "\n",
    "    for i in range(0,N):\n",
    "        b = np.arange(0,N)\n",
    "        b = np.delete(b, i)\n",
    "        c[i] = c[i]/c[i,i] \n",
    "        for j in b:\n",
    "            d = c[j,i]\n",
    "            c[j] = c[j]-c[i]*d\n",
    "\n",
    "    return c"
   ]
  },
  {
   "cell_type": "code",
   "execution_count": 289,
   "id": "c386ea6e",
   "metadata": {},
   "outputs": [
    {
     "data": {
      "text/plain": [
       "array([[1., 0., 0., 0.],\n",
       "       [0., 1., 0., 0.],\n",
       "       [0., 0., 1., 0.],\n",
       "       [0., 0., 0., 1.]])"
      ]
     },
     "execution_count": 289,
     "metadata": {},
     "output_type": "execute_result"
    }
   ],
   "source": [
    "#checking that function works\n",
    "\n",
    "a = np.array([[5,2,0,0],[7,11,3,0],[0,15,17,9],[0,0,1,8]])\n",
    "b = np.ones(4)*0.5\n",
    "j_g(a)"
   ]
  },
  {
   "cell_type": "markdown",
   "id": "2cf65251",
   "metadata": {},
   "source": [
    "### 2.2"
   ]
  },
  {
   "cell_type": "code",
   "execution_count": null,
   "id": "48450691",
   "metadata": {},
   "outputs": [],
   "source": []
  },
  {
   "cell_type": "markdown",
   "id": "0dee7d1a",
   "metadata": {},
   "source": [
    "### 2.3"
   ]
  },
  {
   "cell_type": "code",
   "execution_count": 277,
   "id": "8cdf8452",
   "metadata": {},
   "outputs": [],
   "source": [
    "#programm to solve equation system using Jordan-Gauss algorith\n",
    "def solve(a,b):\n",
    "    ''' \n",
    "    this functions solves the equation A*x = b by means of the \n",
    "    Jordan-Gauss algorithm\n",
    "    Input:\n",
    "    a - N x N np.array: Matrix A\n",
    "    b - N x 1 np.array: excpected result \n",
    "    \n",
    "    Output: \n",
    "    x -  N x 1 np.array: x vector \n",
    "    \n",
    "    Note: this function does not apply pivoting\n",
    "    '''\n",
    "    #placing A and b in the same matrix C with \n",
    "    #C = (ai1, ai2,... aiN, bi)\n",
    "    \n",
    "    N = len(a[0])\n",
    "    c = np.zeros((N, N +1))\n",
    "    for i in range(0, N):\n",
    "        c[i,-1] = b[i]\n",
    "        for j in range(0,N):\n",
    "            c[i,j] = a[i,j]\n",
    "            \n",
    "    print('equation system:')\n",
    "    print(c)\n",
    "    print()\n",
    "    print('solution:')\n",
    "    c_0 = j_g(c)\n",
    "    print(c_0)\n",
    "    print()\n",
    "    x = np.zeros(N)\n",
    "    for i in range(0,N):\n",
    "        x[i] = c_0[i,-1]\n",
    "    return x"
   ]
  },
  {
   "cell_type": "code",
   "execution_count": 290,
   "id": "4ae3272f",
   "metadata": {},
   "outputs": [
    {
     "name": "stdout",
     "output_type": "stream",
     "text": [
      "equation system:\n",
      "[[ 5.   2.   0.   0.   0.5]\n",
      " [ 7.  11.   3.   0.   0.5]\n",
      " [ 0.  15.  17.   9.   0.5]\n",
      " [ 0.   0.   1.   8.   0.5]]\n",
      "\n",
      "solution:\n",
      "[[ 1.          0.          0.          0.          0.11402994]\n",
      " [ 0.          1.          0.          0.         -0.03507485]\n",
      " [ 0.          0.          1.          0.          0.02920458]\n",
      " [ 0.          0.          0.          1.          0.05884943]]\n",
      "\n"
     ]
    },
    {
     "data": {
      "text/plain": [
       "array([ 0.11402994, -0.03507485,  0.02920458,  0.05884943])"
      ]
     },
     "execution_count": 290,
     "metadata": {},
     "output_type": "execute_result"
    }
   ],
   "source": [
    "#checking that functions work\n",
    "solve(a,b)"
   ]
  },
  {
   "cell_type": "markdown",
   "id": "287a67fd",
   "metadata": {},
   "source": [
    "### 2.4"
   ]
  },
  {
   "cell_type": "code",
   "execution_count": 285,
   "id": "575835ea",
   "metadata": {},
   "outputs": [
    {
     "name": "stdout",
     "output_type": "stream",
     "text": [
      "[[ 1.5 -1.   0.   0.   0.   0.   0.   0.   0.  -1. ]\n",
      " [-1.   1.5 -1.   0.   0.   0.   0.   0.   0.   0. ]\n",
      " [ 0.  -1.   1.5 -1.   0.   0.   0.   0.   0.   0. ]\n",
      " [ 0.   0.  -1.   1.5 -1.   0.   0.   0.   0.   0. ]\n",
      " [ 0.   0.   0.  -1.   1.5 -1.   0.   0.   0.   0. ]\n",
      " [ 0.   0.   0.   0.  -1.   1.5 -1.   0.   0.   0. ]\n",
      " [ 0.   0.   0.   0.   0.  -1.   1.5 -1.   0.   0. ]\n",
      " [ 0.   0.   0.   0.   0.   0.  -1.   1.5 -1.   0. ]\n",
      " [ 0.   0.   0.   0.   0.   0.   0.  -1.   1.5 -1. ]\n",
      " [ 0.   0.   0.   0.   0.   0.   0.   0.  -1.   1.5]]\n",
      "[0.1 0.1 0.1 0.1 0.1 0.1 0.1 0.1 0.1 0.1]\n"
     ]
    }
   ],
   "source": [
    "#defining matrix and b vector\n",
    "d = np.zeros((10,10))\n",
    "a = -1\n",
    "b = 3/2\n",
    "c = -1\n",
    "for i in range (0,10):\n",
    "    d[i,i] = b\n",
    "    d[i,i-1] = a\n",
    "for i in range(0,9):\n",
    "    d[i,i+1] = c\n",
    "print(d)\n",
    "y = np.ones(10)*1/10\n",
    "print(y)"
   ]
  },
  {
   "cell_type": "code",
   "execution_count": 291,
   "id": "8fd69550",
   "metadata": {},
   "outputs": [
    {
     "name": "stdout",
     "output_type": "stream",
     "text": [
      "equation system:\n",
      "[[ 1.5 -1.   0.   0.   0.   0.   0.   0.   0.  -1.   0.1]\n",
      " [-1.   1.5 -1.   0.   0.   0.   0.   0.   0.   0.   0.1]\n",
      " [ 0.  -1.   1.5 -1.   0.   0.   0.   0.   0.   0.   0.1]\n",
      " [ 0.   0.  -1.   1.5 -1.   0.   0.   0.   0.   0.   0.1]\n",
      " [ 0.   0.   0.  -1.   1.5 -1.   0.   0.   0.   0.   0.1]\n",
      " [ 0.   0.   0.   0.  -1.   1.5 -1.   0.   0.   0.   0.1]\n",
      " [ 0.   0.   0.   0.   0.  -1.   1.5 -1.   0.   0.   0.1]\n",
      " [ 0.   0.   0.   0.   0.   0.  -1.   1.5 -1.   0.   0.1]\n",
      " [ 0.   0.   0.   0.   0.   0.   0.  -1.   1.5 -1.   0.1]\n",
      " [ 0.   0.   0.   0.   0.   0.   0.   0.  -1.   1.5  0.1]]\n",
      "\n",
      "solution:\n",
      "[[ 1.          0.          0.          0.          0.          0.\n",
      "   0.          0.          0.          0.          0.32765957]\n",
      " [ 0.          1.          0.          0.          0.          0.\n",
      "   0.          0.          0.          0.          0.10638298]\n",
      " [ 0.          0.          1.          0.          0.          0.\n",
      "   0.          0.          0.          0.         -0.26808511]\n",
      " [ 0.          0.          0.          1.          0.          0.\n",
      "   0.          0.          0.          0.         -0.60851064]\n",
      " [ 0.          0.          0.          0.          1.          0.\n",
      "   0.          0.          0.          0.         -0.74468085]\n",
      " [ 0.          0.          0.          0.          0.          1.\n",
      "   0.          0.          0.          0.         -0.60851064]\n",
      " [ 0.          0.          0.          0.          0.          0.\n",
      "   1.          0.          0.          0.         -0.26808511]\n",
      " [ 0.          0.          0.          0.          0.          0.\n",
      "   0.          1.          0.          0.          0.10638298]\n",
      " [ 0.          0.          0.          0.          0.          0.\n",
      "   0.          0.          1.          0.          0.32765957]\n",
      " [ 0.          0.          0.          0.          0.          0.\n",
      "   0.          0.          0.          1.          0.28510638]]\n",
      "\n",
      "x =  [ 0.32765957  0.10638298 -0.26808511 -0.60851064 -0.74468085 -0.60851064\n",
      " -0.26808511  0.10638298  0.32765957  0.28510638]\n"
     ]
    }
   ],
   "source": [
    "x1 = solve(d,y)\n",
    "print('x = ', x1)"
   ]
  },
  {
   "cell_type": "code",
   "execution_count": 288,
   "id": "bc0f0a6c",
   "metadata": {},
   "outputs": [
    {
     "name": "stdout",
     "output_type": "stream",
     "text": [
      "[0.1 0.1 0.1 0.1 0.1 0.1 0.1 0.1 0.1 0.1]\n"
     ]
    }
   ],
   "source": [
    "print(np.matmul(d,x1))"
   ]
  }
 ],
 "metadata": {
  "kernelspec": {
   "display_name": "Python 3 (ipykernel)",
   "language": "python",
   "name": "python3"
  },
  "language_info": {
   "codemirror_mode": {
    "name": "ipython",
    "version": 3
   },
   "file_extension": ".py",
   "mimetype": "text/x-python",
   "name": "python",
   "nbconvert_exporter": "python",
   "pygments_lexer": "ipython3",
   "version": "3.9.13"
  }
 },
 "nbformat": 4,
 "nbformat_minor": 5
}
