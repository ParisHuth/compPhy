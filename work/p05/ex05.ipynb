{
 "cells": [
  {
   "attachments": {},
   "cell_type": "markdown",
   "metadata": {},
   "source": [
    "# Numerical linear algebra methods"
   ]
  },
  {
   "cell_type": "code",
   "execution_count": 2,
   "metadata": {},
   "outputs": [],
   "source": [
    "import numpy as np"
   ]
  },
  {
   "cell_type": "code",
   "execution_count": 7,
   "metadata": {},
   "outputs": [
    {
     "name": "stdout",
     "output_type": "stream",
     "text": [
      "x\n",
      " [-0.5  1. ]\n",
      "A * x\n",
      " [0.33333333 0.16666667]\n",
      "[[ 0.00000000e+00 -4.99988939e-13]]\n"
     ]
    }
   ],
   "source": [
    "# small program to solve the system for given epsilon with gauss jordan\n",
    "def solve_equation(epsilon):\n",
    "    # setup matrix\n",
    "    M = np.array([[epsilon, 1/3,1/3],[1/3,1/3,1/6]])\n",
    "\n",
    "    # perform gauss jordan\n",
    "    M[0,:]=M[0,:] / M[0,0]\n",
    "    M[1,:]=M[1,:] - M[0,:] * M[1,0]/M[0,0]\n",
    "    M[1,:]=M[1,:] / M[1,1]\n",
    "    M[0,:]=M[0,:] - M[1,:] * M[0,1]/M[1,1]\n",
    "\n",
    "    return M[:,-1]\n",
    "\n",
    "# solve the system\n",
    "eps = 1e-12\n",
    "x = solve_equation(eps)\n",
    "print('x\\n', x)\n",
    "\n",
    "# Resinert oslution into matrix equation\n",
    "A = np.array([[eps,1/3], [1/3,1/3]])\n",
    "y = np.array([[1/3,1/6]])\n",
    "y_re = np.dot(A,x)\n",
    "\n",
    "print('A * x\\n', y_re)\n",
    "print(y-y_re)"
   ]
  },
  {
   "cell_type": "code",
   "execution_count": 15,
   "metadata": {},
   "outputs": [
    {
     "name": "stdout",
     "output_type": "stream",
     "text": [
      "p\n",
      " [[0. 1.]\n",
      " [1. 0.]]\n",
      "l\n",
      " [[1.e+00 0.e+00]\n",
      " [3.e-12 1.e+00]]\n",
      "u\n",
      " [[0.33333333 0.33333333]\n",
      " [0.         0.33333333]]\n",
      "y\n",
      " [[0.33333333 0.16666667]]\n"
     ]
    },
    {
     "ename": "ValueError",
     "evalue": "shapes of a (2, 2) and b (1, 2) are incompatible",
     "output_type": "error",
     "traceback": [
      "\u001b[0;31m---------------------------------------------------------------------------\u001b[0m",
      "\u001b[0;31mValueError\u001b[0m                                Traceback (most recent call last)",
      "Cell \u001b[0;32mIn[15], line 17\u001b[0m\n\u001b[1;32m     14\u001b[0m \u001b[39mprint\u001b[39m(\u001b[39m'\u001b[39m\u001b[39my\u001b[39m\u001b[39m\\n\u001b[39;00m\u001b[39m'\u001b[39m, y)\n\u001b[1;32m     16\u001b[0m \u001b[39m# perform backsub\u001b[39;00m\n\u001b[0;32m---> 17\u001b[0m x_bs \u001b[39m=\u001b[39m lubksb(u,y)\n\u001b[1;32m     18\u001b[0m \u001b[39mprint\u001b[39m(\u001b[39m'\u001b[39m\u001b[39mx_bs\u001b[39m\u001b[39m\\n\u001b[39;00m\u001b[39m'\u001b[39m, x_bs)\n\u001b[1;32m     20\u001b[0m \u001b[39m# Test via reinstaertion\u001b[39;00m\n",
      "File \u001b[0;32m~/.local/lib/python3.11/site-packages/scipy/linalg/_basic.py:342\u001b[0m, in \u001b[0;36msolve_triangular\u001b[0;34m(a, b, trans, lower, unit_diagonal, overwrite_b, check_finite)\u001b[0m\n\u001b[1;32m    340\u001b[0m     \u001b[39mraise\u001b[39;00m \u001b[39mValueError\u001b[39;00m(\u001b[39m'\u001b[39m\u001b[39mexpected square matrix\u001b[39m\u001b[39m'\u001b[39m)\n\u001b[1;32m    341\u001b[0m \u001b[39mif\u001b[39;00m a1\u001b[39m.\u001b[39mshape[\u001b[39m0\u001b[39m] \u001b[39m!=\u001b[39m b1\u001b[39m.\u001b[39mshape[\u001b[39m0\u001b[39m]:\n\u001b[0;32m--> 342\u001b[0m     \u001b[39mraise\u001b[39;00m \u001b[39mValueError\u001b[39;00m(\u001b[39m'\u001b[39m\u001b[39mshapes of a \u001b[39m\u001b[39m{}\u001b[39;00m\u001b[39m and b \u001b[39m\u001b[39m{}\u001b[39;00m\u001b[39m are incompatible\u001b[39m\u001b[39m'\u001b[39m\n\u001b[1;32m    343\u001b[0m                      \u001b[39m.\u001b[39mformat(a1\u001b[39m.\u001b[39mshape, b1\u001b[39m.\u001b[39mshape))\n\u001b[1;32m    344\u001b[0m overwrite_b \u001b[39m=\u001b[39m overwrite_b \u001b[39mor\u001b[39;00m _datacopied(b1, b)\n\u001b[1;32m    346\u001b[0m trans \u001b[39m=\u001b[39m {\u001b[39m'\u001b[39m\u001b[39mN\u001b[39m\u001b[39m'\u001b[39m: \u001b[39m0\u001b[39m, \u001b[39m'\u001b[39m\u001b[39mT\u001b[39m\u001b[39m'\u001b[39m: \u001b[39m1\u001b[39m, \u001b[39m'\u001b[39m\u001b[39mC\u001b[39m\u001b[39m'\u001b[39m: \u001b[39m2\u001b[39m}\u001b[39m.\u001b[39mget(trans, trans)\n",
      "\u001b[0;31mValueError\u001b[0m: shapes of a (2, 2) and b (1, 2) are incompatible"
     ]
    }
   ],
   "source": [
    "from scipy.linalg import lu as ludcmp\n",
    "from scipy.linalg import solve_triangular as lubksb\n",
    "from scipy.linalg import inv\n",
    "\n",
    "eps = 1e-12\n",
    "A = np.array([[eps, 1/3],[1/3, 1/3]])\n",
    "y = np.array([[1/3, 1/6]])\n",
    "\n",
    "# perform lu decomposition\n",
    "p, l, u = ludcmp(A)\n",
    "print('p\\n', p )\n",
    "print('l\\n', l )\n",
    "print('u\\n', u )\n",
    "print('y\\n', y)\n",
    "\n",
    "# perform backsub\n",
    "x_bs = lubksb(u,y)\n",
    "print('x_bs\\n', x_bs)\n",
    "\n",
    "# Test via reinstaertion\n",
    "y_re_bs = np.dot(np.dot(inv(p), A), x_bs)\n",
    "print('A * x_bs \\n', y_re_bs)\n",
    "print('y - y_re_bs \\n', y - y_re_bs)"
   ]
  },
  {
   "cell_type": "code",
   "execution_count": 16,
   "metadata": {},
   "outputs": [
    {
     "name": "stdout",
     "output_type": "stream",
     "text": [
      "p\n",
      " [[0. 1.]\n",
      " [1. 0.]]\n",
      "l\n",
      " [[1.e+00 0.e+00]\n",
      " [3.e-12 1.e+00]]\n",
      "u\n",
      " [[0.33333333 0.33333333]\n",
      " [0.         0.33333333]]\n"
     ]
    },
    {
     "ename": "LinAlgError",
     "evalue": "Last 2 dimensions of the array must be square",
     "output_type": "error",
     "traceback": [
      "\u001b[0;31m---------------------------------------------------------------------------\u001b[0m",
      "\u001b[0;31mLinAlgError\u001b[0m                               Traceback (most recent call last)",
      "Cell \u001b[0;32mIn[16], line 17\u001b[0m\n\u001b[1;32m     14\u001b[0m \u001b[39mprint\u001b[39m(\u001b[39m'\u001b[39m\u001b[39mu\u001b[39m\u001b[39m\\n\u001b[39;00m\u001b[39m'\u001b[39m, u)\n\u001b[1;32m     16\u001b[0m \u001b[39m# perform backsubstitution\u001b[39;00m\n\u001b[0;32m---> 17\u001b[0m x_bs \u001b[39m=\u001b[39m lubksb(l, np\u001b[39m.\u001b[39;49mlinalg\u001b[39m.\u001b[39;49minv(y))\n\u001b[1;32m     18\u001b[0m \u001b[39mprint\u001b[39m(\u001b[39m'\u001b[39m\u001b[39mx_bs\u001b[39m\u001b[39m\\n\u001b[39;00m\u001b[39m'\u001b[39m, x_bs)\n\u001b[1;32m     20\u001b[0m \u001b[39m# Test via reinstatement\u001b[39;00m\n",
      "File \u001b[0;32m<__array_function__ internals>:200\u001b[0m, in \u001b[0;36minv\u001b[0;34m(*args, **kwargs)\u001b[0m\n",
      "File \u001b[0;32m/usr/lib/python3.11/site-packages/numpy/linalg/linalg.py:533\u001b[0m, in \u001b[0;36minv\u001b[0;34m(a)\u001b[0m\n\u001b[1;32m    531\u001b[0m a, wrap \u001b[39m=\u001b[39m _makearray(a)\n\u001b[1;32m    532\u001b[0m _assert_stacked_2d(a)\n\u001b[0;32m--> 533\u001b[0m _assert_stacked_square(a)\n\u001b[1;32m    534\u001b[0m t, result_t \u001b[39m=\u001b[39m _commonType(a)\n\u001b[1;32m    536\u001b[0m signature \u001b[39m=\u001b[39m \u001b[39m'\u001b[39m\u001b[39mD->D\u001b[39m\u001b[39m'\u001b[39m \u001b[39mif\u001b[39;00m isComplexType(t) \u001b[39melse\u001b[39;00m \u001b[39m'\u001b[39m\u001b[39md->d\u001b[39m\u001b[39m'\u001b[39m\n",
      "File \u001b[0;32m/usr/lib/python3.11/site-packages/numpy/linalg/linalg.py:190\u001b[0m, in \u001b[0;36m_assert_stacked_square\u001b[0;34m(*arrays)\u001b[0m\n\u001b[1;32m    188\u001b[0m m, n \u001b[39m=\u001b[39m a\u001b[39m.\u001b[39mshape[\u001b[39m-\u001b[39m\u001b[39m2\u001b[39m:]\n\u001b[1;32m    189\u001b[0m \u001b[39mif\u001b[39;00m m \u001b[39m!=\u001b[39m n:\n\u001b[0;32m--> 190\u001b[0m     \u001b[39mraise\u001b[39;00m LinAlgError(\u001b[39m'\u001b[39m\u001b[39mLast 2 dimensions of the array must be square\u001b[39m\u001b[39m'\u001b[39m)\n",
      "\u001b[0;31mLinAlgError\u001b[0m: Last 2 dimensions of the array must be square"
     ]
    }
   ],
   "source": [
    "import numpy as np\n",
    "from scipy.linalg import lu as ludcmp\n",
    "from scipy.linalg import solve_triangular as lubksb\n",
    "from scipy.linalg import inv\n",
    "\n",
    "eps = 1e-12\n",
    "A = np.array([[eps, 1/3],[1/3, 1/3]])\n",
    "y = np.array([[1/3, 1/6]])\n",
    "\n",
    "# perform lu decomposition\n",
    "p, l, u = ludcmp(A)\n",
    "print('p\\n', p)\n",
    "print('l\\n', l)\n",
    "print('u\\n', u)\n",
    "\n",
    "# perform backsubstitution\n",
    "x_bs = lubksb(l, np.linalg.inv(y))\n",
    "print('x_bs\\n', x_bs)\n",
    "\n",
    "# Test via reinstatement\n",
    "y_re_bs = np.dot(A, x_bs)\n",
    "print('A * x_bs \\n', y_re_bs)\n",
    "print('y - y_re_bs \\n', y - y_re_bs)"
   ]
  }
 ],
 "metadata": {
  "kernelspec": {
   "display_name": "Python 3",
   "language": "python",
   "name": "python3"
  },
  "language_info": {
   "codemirror_mode": {
    "name": "ipython",
    "version": 3
   },
   "file_extension": ".py",
   "mimetype": "text/x-python",
   "name": "python",
   "nbconvert_exporter": "python",
   "pygments_lexer": "ipython3",
   "version": "3.11.3"
  },
  "orig_nbformat": 4
 },
 "nbformat": 4,
 "nbformat_minor": 2
}
