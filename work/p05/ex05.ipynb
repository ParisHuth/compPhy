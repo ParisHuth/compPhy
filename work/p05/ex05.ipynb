{
 "cells": [
  {
   "cell_type": "markdown",
   "metadata": {},
   "source": [
    "# Numerical linear algebra methods"
   ]
  },
  {
   "cell_type": "code",
   "execution_count": 1,
   "metadata": {},
   "outputs": [],
   "source": [
    "import numpy as np"
   ]
  },
  {
   "cell_type": "code",
   "execution_count": 2,
   "metadata": {},
   "outputs": [
    {
     "name": "stdout",
     "output_type": "stream",
     "text": [
      "x\n",
      " [-0.5  1. ]\n",
      "A * x\n",
      " [0.33333333 0.16666667]\n",
      "[[ 0.00000000e+00 -4.99988939e-13]]\n"
     ]
    }
   ],
   "source": [
    "# small program to solve the system for given epsilon with gauss jordan\n",
    "def solve_equation(epsilon):\n",
    "    # setup matrix\n",
    "    M = np.array([[epsilon, 1/3,1/3],[1/3,1/3,1/6]])\n",
    "\n",
    "    # perform gauss jordan\n",
    "    M[0,:]=M[0,:] / M[0,0]\n",
    "    M[1,:]=M[1,:] - M[0,:] * M[1,0]/M[0,0]\n",
    "    M[1,:]=M[1,:] / M[1,1]\n",
    "    M[0,:]=M[0,:] - M[1,:] * M[0,1]/M[1,1]\n",
    "\n",
    "    return M[:,-1]\n",
    "\n",
    "# solve the system\n",
    "eps = 1e-12\n",
    "x = solve_equation(eps)\n",
    "print('x\\n', x)\n",
    "\n",
    "# Resinert oslution into matrix equation\n",
    "A = np.array([[eps,1/3], [1/3,1/3]])\n",
    "y = np.array([[1/3,1/6]])\n",
    "y_re = np.dot(A,x)\n",
    "\n",
    "print('A * x\\n', y_re)\n",
    "print(y-y_re)"
   ]
  },
  {
   "cell_type": "code",
   "execution_count": 6,
   "metadata": {},
   "outputs": [
    {
     "name": "stdout",
     "output_type": "stream",
     "text": [
      "p\n",
      " [[0. 1.]\n",
      " [1. 0.]]\n",
      "l\n",
      " [[1.e+00 0.e+00]\n",
      " [3.e-12 1.e+00]]\n",
      "u\n",
      " [[0.33333333 0.33333333]\n",
      " [0.         0.33333333]]\n",
      "y\n",
      " [[0.33333333 0.16666667]]\n",
      "x_bs\n",
      " [[0.5]\n",
      " [0.5]]\n",
      "A * x_bs \n",
      " [[0.33333333]\n",
      " [0.16666667]]\n",
      "y - y_re_bs \n",
      " [[ 0.00000000e+00 -1.66666667e-01]\n",
      " [ 1.66666667e-01 -1.00000563e-12]]\n"
     ]
    }
   ],
   "source": [
    "from scipy.linalg import lu as ludcmp\n",
    "from scipy.linalg import solve_triangular as lubksb\n",
    "from scipy.linalg import inv\n",
    "\n",
    "eps = 1e-12\n",
    "A = np.array([[eps, 1/3],[1/3, 1/3]])\n",
    "y = np.array([[1/3, 1/6]])\n",
    "\n",
    "# perform lu decomposition\n",
    "p, l, u = ludcmp(A)\n",
    "print('p\\n', p )\n",
    "print('l\\n', l )\n",
    "print('u\\n', u )\n",
    "print('y\\n', y)\n",
    "\n",
    "# perform backsub\n",
    "x_bs = lubksb(u, y.transpose())\n",
    "print('x_bs\\n', x_bs)\n",
    "\n",
    "# Test via reinstaertion\n",
    "y_re_bs = np.dot(np.dot(inv(p), A), x_bs)\n",
    "print('A * x_bs \\n', y_re_bs)\n",
    "print('y - y_re_bs \\n', y - y_re_bs)"
   ]
  },
  {
   "cell_type": "code",
   "execution_count": null,
   "metadata": {},
   "outputs": [],
   "source": []
  }
 ],
 "metadata": {
  "kernelspec": {
   "display_name": "Python 3 (ipykernel)",
   "language": "python",
   "name": "python3"
  },
  "language_info": {
   "codemirror_mode": {
    "name": "ipython",
    "version": 3
   },
   "file_extension": ".py",
   "mimetype": "text/x-python",
   "name": "python",
   "nbconvert_exporter": "python",
   "pygments_lexer": "ipython3",
   "version": "3.9.13"
  }
 },
 "nbformat": 4,
 "nbformat_minor": 2
}
