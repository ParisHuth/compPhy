{
 "cells": [
  {
   "cell_type": "code",
   "execution_count": 2,
   "id": "7f8ae73d-d7b7-4c0b-8ac9-5bdb57154b40",
   "metadata": {},
   "outputs": [],
   "source": [
    "import matplotlib\n",
    "import matplotlib.pyplot as plt\n",
    "import numpy as np"
   ]
  },
  {
   "cell_type": "code",
   "execution_count": 77,
   "id": "2cbe60cb-fe42-495a-b122-cf6f9794feb4",
   "metadata": {},
   "outputs": [],
   "source": [
    "def it(a,n0,n1,y0):\n",
    "    y_n = None\n",
    "    if n0 <= 0:\n",
    "        print(\"A boundy of 0 has been givin, which is not define. By defauls it will the value set to 1\")\n",
    "        n0 = 1\n",
    "    elif n1 <= 0:\n",
    "        print(\"A boundy of 0 has been givin, which is not define. By defauls it will the value set to 1\")\n",
    "        n1 = 1\n",
    "       \n",
    "    if n0 < n1:\n",
    "        un = None\n",
    "        y_n = np.array([y0])\n",
    "        for n in range(n0,n1):\n",
    "            un = 1/n - a*y_n[-1]\n",
    "            y_n = np.append(y_n, un)\n",
    "    elif n0 > n1:\n",
    "        un = None\n",
    "        y_n = np.array([y0])\n",
    "        for n in range(n1,n0):\n",
    "            un = 1/a*(1/n - y_n[-1])\n",
    "            y_n = np.append(y_n, un)\n",
    "    elif n0 ==n1: \n",
    "        y_n = np.array([y0])\n",
    "        \n",
    "    return y_n"
   ]
  },
  {
   "cell_type": "code",
   "execution_count": 81,
   "id": "f82d4666-51ed-406c-ad78-7d80a05b5bc8",
   "metadata": {},
   "outputs": [],
   "source": [
    "# parameter val decide wether the entire series has to be print of just the last value \n",
    "def iteration(a,n0,n1,y0, val):\n",
    "    a = it(a,n0,n1,y0)\n",
    "    if val == True:\n",
    "        print('The last value is y_{} = {}'.format(n1,a[-1]))\n",
    "    elif val == False:\n",
    "        if n0<n1:\n",
    "            for i in range(0,len(a)):\n",
    "                print('y_{} = {}'.format(n0+i,a[i]))\n",
    "        elif n0>n1:\n",
    "            for i in range(0,len(a)):\n",
    "                print('y_{} = {}'.format(n0- i,a[i]))"
   ]
  },
  {
   "cell_type": "code",
   "execution_count": 84,
   "id": "2ca62d94-1113-4ecc-bb0c-2a40fa712ae3",
   "metadata": {},
   "outputs": [
    {
     "name": "stdout",
     "output_type": "stream",
     "text": [
      "y_4 = 3.0\n",
      "y_3 = -0.4\n",
      "y_2 = 0.18000000000000002\n",
      "y_1 = 0.03066666666666666\n"
     ]
    }
   ],
   "source": [
    "iteration(5,4,1,3, False)"
   ]
  },
  {
   "cell_type": "code",
   "execution_count": 94,
   "id": "c0e263f5-87ee-4012-8ff4-2475622cc206",
   "metadata": {},
   "outputs": [
    {
     "ename": "SyntaxError",
     "evalue": "positional argument follows keyword argument (569010508.py, line 3)",
     "output_type": "error",
     "traceback": [
      "\u001b[0;36m  File \u001b[0;32m\"/tmp/ipykernel_18212/569010508.py\"\u001b[0;36m, line \u001b[0;32m3\u001b[0m\n\u001b[0;31m    iteration(a=5,n0=50,n1 = 30,y0=np.log((1+5)/5),False)\u001b[0m\n\u001b[0m                                                  ^\u001b[0m\n\u001b[0;31mSyntaxError\u001b[0m\u001b[0;31m:\u001b[0m positional argument follows keyword argument\n"
     ]
    }
   ],
   "source": [
    "iteration(5,0,30,np.log((1+5)/5),0)\n",
    "print()\n",
    "iteration(5,50,30,y0np.log((1+5)/5),False)\n"
   ]
  },
  {
   "cell_type": "code",
   "execution_count": null,
   "id": "a67e8df2-a777-4460-a6b4-3b0e2bbecb70",
   "metadata": {},
   "outputs": [],
   "source": []
  },
  {
   "cell_type": "code",
   "execution_count": null,
   "id": "f1225764-a770-4ceb-a8dc-e64b96c6941c",
   "metadata": {},
   "outputs": [],
   "source": []
  }
 ],
 "metadata": {
  "kernelspec": {
   "display_name": "Python 3 (ipykernel)",
   "language": "python",
   "name": "python3"
  },
  "language_info": {
   "codemirror_mode": {
    "name": "ipython",
    "version": 3
   },
   "file_extension": ".py",
   "mimetype": "text/x-python",
   "name": "python",
   "nbconvert_exporter": "python",
   "pygments_lexer": "ipython3",
   "version": "3.7.3"
  }
 },
 "nbformat": 4,
 "nbformat_minor": 5
}
